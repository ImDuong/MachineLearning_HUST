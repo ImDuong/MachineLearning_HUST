{
 "cells": [
  {
   "cell_type": "markdown",
   "metadata": {},
   "source": [
    "# IMPORT LIBRARIES"
   ]
  },
  {
   "cell_type": "code",
   "execution_count": 31,
   "metadata": {},
   "outputs": [],
   "source": [
    "import pandas as pd\n",
    "import numpy as np\n",
    "import seaborn as sns\n",
    "import matplotlib.pyplot as plt\n",
    "\n",
    "# split data to training & test \n",
    "from sklearn.model_selection import train_test_split\n",
    "\n",
    "# standard datasets\n",
    "from sklearn.preprocessing import StandardScaler\n",
    "\n",
    "# classifier algo\n",
    "from sklearn.tree import DecisionTreeClassifier\n",
    "from sklearn.neighbors import KNeighborsClassifier \n",
    "from sklearn.naive_bayes import GaussianNB\n",
    "from sklearn.naive_bayes import MultinomialNB\n",
    "from sklearn.naive_bayes import BernoulliNB\n",
    "from sklearn.svm import SVC\n",
    "\n",
    "# clustering algo\n",
    "from sklearn.cluster import KMeans\n",
    "\n",
    "from sklearn import metrics\n"
   ]
  },
  {
   "cell_type": "markdown",
   "metadata": {},
   "source": [
    "# HELPER FUNCTIONS"
   ]
  },
  {
   "cell_type": "code",
   "execution_count": 19,
   "metadata": {},
   "outputs": [],
   "source": [
    "# Ref: https://towardsdatascience.com/metrics-to-evaluate-your-machine-learning-algorithm-f10ba6e38234\n",
    "\n",
    "def getPerfMeasures(y_true, y_pred):\n",
    "    conf_matrix = metrics.confusion_matrix(y_true, y_pred)\n",
    "    accuracy = metrics.accuracy_score(y_true, y_pred)\n",
    "    precision = metrics.precision_score(y_true, y_pred, average = None)\n",
    "    recall = metrics.recall_score(y_true, y_pred, average = None)\n",
    "    f1_score = metrics.f1_score(y_true, y_pred, average = None)\n",
    "    # todo: add Mean Absolute Error, Mean Squared Error\n",
    "    return accuracy, precision, recall, f1_score\n",
    "\n",
    "def viewConfMatrixAndPerfMeasures(y_true, y_pred):\n",
    "    conf_matrix = metrics.confusion_matrix(y_true, y_pred)\n",
    "    \n",
    "    # use heatmap to get result\n",
    "    sns.heatmap(conf_matrix, annot = True, fmt = \".2f\", square = True, cmap = plt.cm.Reds)\n",
    "    plt.ylabel('True label')\n",
    "    plt.xlabel('Predicted label')\n",
    "    plt.title('Confusion matrix')\n",
    "    plt.tight_layout()\n",
    "    \n",
    "    # get performance measures\n",
    "    accuracy, precision, recall, f1_score = getPerfMeasures(y_true, y_pred)\n",
    "    print(\"Accuracy = \",accuracy, \"\\nPrecision =\",precision,\"\\nRecall = \", recall,\"\\nF1 Score = \", f1_score)\n",
    "    print(conf_matrix)\n",
    "#     print (f\"{i:<9}{data.columns[i]:<30}{c:<10}{len(data)-c: <10}\")\n",
    "    "
   ]
  },
  {
   "cell_type": "markdown",
   "metadata": {},
   "source": [
    "# IMPORT DATA"
   ]
  },
  {
   "cell_type": "code",
   "execution_count": 20,
   "metadata": {},
   "outputs": [
    {
     "data": {
      "text/html": [
       "<div>\n",
       "<style scoped>\n",
       "    .dataframe tbody tr th:only-of-type {\n",
       "        vertical-align: middle;\n",
       "    }\n",
       "\n",
       "    .dataframe tbody tr th {\n",
       "        vertical-align: top;\n",
       "    }\n",
       "\n",
       "    .dataframe thead th {\n",
       "        text-align: right;\n",
       "    }\n",
       "</style>\n",
       "<table border=\"1\" class=\"dataframe\">\n",
       "  <thead>\n",
       "    <tr style=\"text-align: right;\">\n",
       "      <th></th>\n",
       "      <th>word_freq_make</th>\n",
       "      <th>word_freq_address</th>\n",
       "      <th>word_freq_all</th>\n",
       "      <th>word_freq_3d</th>\n",
       "      <th>word_freq_our</th>\n",
       "      <th>word_freq_over</th>\n",
       "      <th>word_freq_remove</th>\n",
       "      <th>word_freq_internet</th>\n",
       "      <th>word_freq_order</th>\n",
       "      <th>word_freq_mail</th>\n",
       "      <th>...</th>\n",
       "      <th>char_freq_;</th>\n",
       "      <th>char_freq_(</th>\n",
       "      <th>char_freq_[</th>\n",
       "      <th>char_freq_!</th>\n",
       "      <th>char_freq_$</th>\n",
       "      <th>char_freq_#</th>\n",
       "      <th>capital_run_length_average</th>\n",
       "      <th>capital_run_length_longest</th>\n",
       "      <th>capital_run_length_total</th>\n",
       "      <th>class</th>\n",
       "    </tr>\n",
       "  </thead>\n",
       "  <tbody>\n",
       "    <tr>\n",
       "      <th>0</th>\n",
       "      <td>0.00</td>\n",
       "      <td>0.64</td>\n",
       "      <td>0.64</td>\n",
       "      <td>0.0</td>\n",
       "      <td>0.32</td>\n",
       "      <td>0.00</td>\n",
       "      <td>0.00</td>\n",
       "      <td>0.00</td>\n",
       "      <td>0.00</td>\n",
       "      <td>0.00</td>\n",
       "      <td>...</td>\n",
       "      <td>0.00</td>\n",
       "      <td>0.000</td>\n",
       "      <td>0.0</td>\n",
       "      <td>0.778</td>\n",
       "      <td>0.000</td>\n",
       "      <td>0.000</td>\n",
       "      <td>3.756</td>\n",
       "      <td>61</td>\n",
       "      <td>278</td>\n",
       "      <td>1</td>\n",
       "    </tr>\n",
       "    <tr>\n",
       "      <th>1</th>\n",
       "      <td>0.21</td>\n",
       "      <td>0.28</td>\n",
       "      <td>0.50</td>\n",
       "      <td>0.0</td>\n",
       "      <td>0.14</td>\n",
       "      <td>0.28</td>\n",
       "      <td>0.21</td>\n",
       "      <td>0.07</td>\n",
       "      <td>0.00</td>\n",
       "      <td>0.94</td>\n",
       "      <td>...</td>\n",
       "      <td>0.00</td>\n",
       "      <td>0.132</td>\n",
       "      <td>0.0</td>\n",
       "      <td>0.372</td>\n",
       "      <td>0.180</td>\n",
       "      <td>0.048</td>\n",
       "      <td>5.114</td>\n",
       "      <td>101</td>\n",
       "      <td>1028</td>\n",
       "      <td>1</td>\n",
       "    </tr>\n",
       "    <tr>\n",
       "      <th>2</th>\n",
       "      <td>0.06</td>\n",
       "      <td>0.00</td>\n",
       "      <td>0.71</td>\n",
       "      <td>0.0</td>\n",
       "      <td>1.23</td>\n",
       "      <td>0.19</td>\n",
       "      <td>0.19</td>\n",
       "      <td>0.12</td>\n",
       "      <td>0.64</td>\n",
       "      <td>0.25</td>\n",
       "      <td>...</td>\n",
       "      <td>0.01</td>\n",
       "      <td>0.143</td>\n",
       "      <td>0.0</td>\n",
       "      <td>0.276</td>\n",
       "      <td>0.184</td>\n",
       "      <td>0.010</td>\n",
       "      <td>9.821</td>\n",
       "      <td>485</td>\n",
       "      <td>2259</td>\n",
       "      <td>1</td>\n",
       "    </tr>\n",
       "    <tr>\n",
       "      <th>3</th>\n",
       "      <td>0.00</td>\n",
       "      <td>0.00</td>\n",
       "      <td>0.00</td>\n",
       "      <td>0.0</td>\n",
       "      <td>0.63</td>\n",
       "      <td>0.00</td>\n",
       "      <td>0.31</td>\n",
       "      <td>0.63</td>\n",
       "      <td>0.31</td>\n",
       "      <td>0.63</td>\n",
       "      <td>...</td>\n",
       "      <td>0.00</td>\n",
       "      <td>0.137</td>\n",
       "      <td>0.0</td>\n",
       "      <td>0.137</td>\n",
       "      <td>0.000</td>\n",
       "      <td>0.000</td>\n",
       "      <td>3.537</td>\n",
       "      <td>40</td>\n",
       "      <td>191</td>\n",
       "      <td>1</td>\n",
       "    </tr>\n",
       "    <tr>\n",
       "      <th>4</th>\n",
       "      <td>0.00</td>\n",
       "      <td>0.00</td>\n",
       "      <td>0.00</td>\n",
       "      <td>0.0</td>\n",
       "      <td>0.63</td>\n",
       "      <td>0.00</td>\n",
       "      <td>0.31</td>\n",
       "      <td>0.63</td>\n",
       "      <td>0.31</td>\n",
       "      <td>0.63</td>\n",
       "      <td>...</td>\n",
       "      <td>0.00</td>\n",
       "      <td>0.135</td>\n",
       "      <td>0.0</td>\n",
       "      <td>0.135</td>\n",
       "      <td>0.000</td>\n",
       "      <td>0.000</td>\n",
       "      <td>3.537</td>\n",
       "      <td>40</td>\n",
       "      <td>191</td>\n",
       "      <td>1</td>\n",
       "    </tr>\n",
       "  </tbody>\n",
       "</table>\n",
       "<p>5 rows × 58 columns</p>\n",
       "</div>"
      ],
      "text/plain": [
       "   word_freq_make  word_freq_address  word_freq_all  word_freq_3d  \\\n",
       "0            0.00               0.64           0.64           0.0   \n",
       "1            0.21               0.28           0.50           0.0   \n",
       "2            0.06               0.00           0.71           0.0   \n",
       "3            0.00               0.00           0.00           0.0   \n",
       "4            0.00               0.00           0.00           0.0   \n",
       "\n",
       "   word_freq_our  word_freq_over  word_freq_remove  word_freq_internet  \\\n",
       "0           0.32            0.00              0.00                0.00   \n",
       "1           0.14            0.28              0.21                0.07   \n",
       "2           1.23            0.19              0.19                0.12   \n",
       "3           0.63            0.00              0.31                0.63   \n",
       "4           0.63            0.00              0.31                0.63   \n",
       "\n",
       "   word_freq_order  word_freq_mail  ...  char_freq_;  char_freq_(  \\\n",
       "0             0.00            0.00  ...         0.00        0.000   \n",
       "1             0.00            0.94  ...         0.00        0.132   \n",
       "2             0.64            0.25  ...         0.01        0.143   \n",
       "3             0.31            0.63  ...         0.00        0.137   \n",
       "4             0.31            0.63  ...         0.00        0.135   \n",
       "\n",
       "   char_freq_[  char_freq_!  char_freq_$  char_freq_#  \\\n",
       "0          0.0        0.778        0.000        0.000   \n",
       "1          0.0        0.372        0.180        0.048   \n",
       "2          0.0        0.276        0.184        0.010   \n",
       "3          0.0        0.137        0.000        0.000   \n",
       "4          0.0        0.135        0.000        0.000   \n",
       "\n",
       "   capital_run_length_average  capital_run_length_longest  \\\n",
       "0                       3.756                          61   \n",
       "1                       5.114                         101   \n",
       "2                       9.821                         485   \n",
       "3                       3.537                          40   \n",
       "4                       3.537                          40   \n",
       "\n",
       "   capital_run_length_total  class  \n",
       "0                       278      1  \n",
       "1                      1028      1  \n",
       "2                      2259      1  \n",
       "3                       191      1  \n",
       "4                       191      1  \n",
       "\n",
       "[5 rows x 58 columns]"
      ]
     },
     "execution_count": 20,
     "metadata": {},
     "output_type": "execute_result"
    }
   ],
   "source": [
    "#import dataset\n",
    "data = pd.read_csv(\"../processed_data/spambase.csv\")\n",
    "data.head()\n"
   ]
  },
  {
   "cell_type": "code",
   "execution_count": 21,
   "metadata": {},
   "outputs": [
    {
     "name": "stdout",
     "output_type": "stream",
     "text": [
      "Index(['word_freq_make', 'word_freq_address', 'word_freq_all', 'word_freq_3d',\n",
      "       'word_freq_our', 'word_freq_over', 'word_freq_remove',\n",
      "       'word_freq_internet', 'word_freq_order', 'word_freq_mail',\n",
      "       'word_freq_receive', 'word_freq_will', 'word_freq_people',\n",
      "       'word_freq_report', 'word_freq_addresses', 'word_freq_free',\n",
      "       'word_freq_business', 'word_freq_email', 'word_freq_you',\n",
      "       'word_freq_credit', 'word_freq_your', 'word_freq_font', 'word_freq_000',\n",
      "       'word_freq_money', 'word_freq_hp', 'word_freq_hpl', 'word_freq_george',\n",
      "       'word_freq_650', 'word_freq_lab', 'word_freq_labs', 'word_freq_telnet',\n",
      "       'word_freq_857', 'word_freq_data', 'word_freq_415', 'word_freq_85',\n",
      "       'word_freq_technology', 'word_freq_1999', 'word_freq_parts',\n",
      "       'word_freq_pm', 'word_freq_direct', 'word_freq_cs', 'word_freq_meeting',\n",
      "       'word_freq_original', 'word_freq_project', 'word_freq_re',\n",
      "       'word_freq_edu', 'word_freq_table', 'word_freq_conference',\n",
      "       'char_freq_;', 'char_freq_(', 'char_freq_[', 'char_freq_!',\n",
      "       'char_freq_$', 'char_freq_#', 'capital_run_length_average',\n",
      "       'capital_run_length_longest', 'capital_run_length_total', 'class'],\n",
      "      dtype='object')\n",
      "58\n",
      "4601\n"
     ]
    }
   ],
   "source": [
    "print(data.columns)\n",
    "print(len(data.columns))\n",
    "print(len(data))"
   ]
  },
  {
   "cell_type": "markdown",
   "metadata": {},
   "source": [
    "# EDA"
   ]
  },
  {
   "cell_type": "code",
   "execution_count": null,
   "metadata": {},
   "outputs": [],
   "source": [
    "grouped_data = data.groupby(data['class'])\n",
    "print(grouped_data[data.columns[0]].describe(include='all'))"
   ]
  },
  {
   "cell_type": "code",
   "execution_count": null,
   "metadata": {},
   "outputs": [],
   "source": [
    "data[data[data.columns[0]] == 0]"
   ]
  },
  {
   "cell_type": "code",
   "execution_count": null,
   "metadata": {},
   "outputs": [],
   "source": [
    "print (f\"{'col_idx':<9}{'columns':<30}{'0s':<10}{'other': <10}\")\n",
    "for i in range(len(data.columns)):\n",
    "    c = data[data[data.columns[i]] == 0].shape[0]\n",
    "    print (f\"{i:<9}{data.columns[i]:<30}{c:<10}{len(data)-c: <10}\")"
   ]
  },
  {
   "cell_type": "code",
   "execution_count": null,
   "metadata": {},
   "outputs": [],
   "source": [
    "# TODO: plot for all columns\n",
    "import math\n",
    "columns = len(data.columns)\n",
    "print(columns)\n",
    "for i in range(math.ceil(columns/10)):\n",
    "    \n",
    "    fig, axes = plt.subplots(1, 11, figsize = (20, 5))\n",
    "    for j in range(10):\n",
    "        if i * 10 + j < columns:\n",
    "            sns.boxplot(x='class', y = data.columns[i * 10 + j], data = data, orient = 'v', ax = axes[j], whis=10)\n",
    "    plt.tight_layout()\n",
    "    plt.cla()"
   ]
  },
  {
   "cell_type": "code",
   "execution_count": null,
   "metadata": {},
   "outputs": [],
   "source": [
    "## TODO: more EDA"
   ]
  },
  {
   "cell_type": "markdown",
   "metadata": {},
   "source": [
    "# Data Modelling\n",
    "## Classification\n",
    "- Using Decision Tree, KNN, Naive Bayes & SVM"
   ]
  },
  {
   "cell_type": "code",
   "execution_count": 52,
   "metadata": {
    "tags": []
   },
   "outputs": [
    {
     "name": "stdout",
     "output_type": "stream",
     "text": [
      "Test Data:  1151\n",
      "Train Data:  2587\n",
      "Validating Data:  863\n",
      "      word_freq_make  word_freq_address  word_freq_all  word_freq_3d  \\\n",
      "3978            0.00               0.00           0.00           0.0   \n",
      "3882            0.00               0.00           0.00           0.0   \n",
      "1508            0.00               0.74           0.00           0.0   \n",
      "1208            0.47               0.31           0.47           0.0   \n",
      "369             0.00               0.00           1.34           0.0   \n",
      "...              ...                ...            ...           ...   \n",
      "657             0.00               0.66           0.66           0.0   \n",
      "4522            0.00               0.00           0.00           0.0   \n",
      "2235            0.00               0.00           0.00           0.0   \n",
      "2086            0.00               0.00           0.00           0.0   \n",
      "2206            0.00               0.00           1.29           0.0   \n",
      "\n",
      "      word_freq_our  word_freq_over  word_freq_remove  word_freq_internet  \\\n",
      "3978           0.00            0.00              0.00                0.00   \n",
      "3882           0.00            0.00              0.00                0.00   \n",
      "1508           0.00            1.49              0.74                0.00   \n",
      "1208           0.05            0.15              0.05                0.23   \n",
      "369            0.67            0.00              0.00                0.00   \n",
      "...             ...             ...               ...                 ...   \n",
      "657            1.33            0.33              0.33                0.00   \n",
      "4522           0.00            0.00              0.00                0.00   \n",
      "2235           0.00            0.00              0.00                0.00   \n",
      "2086           0.00            0.00              0.00                0.00   \n",
      "2206           0.00            0.00              0.00                0.00   \n",
      "\n",
      "      word_freq_order  word_freq_mail  ...  word_freq_conference  char_freq_;  \\\n",
      "3978             0.00            0.00  ...                  0.00        0.000   \n",
      "3882             0.00            0.00  ...                  0.91        0.000   \n",
      "1508             0.00            0.00  ...                  0.00        0.000   \n",
      "1208             0.44            0.76  ...                  0.00        0.000   \n",
      "369              0.00            0.00  ...                  0.00        0.000   \n",
      "...               ...             ...  ...                   ...          ...   \n",
      "657              0.33            0.00  ...                  0.00        0.000   \n",
      "4522             0.00            0.00  ...                  0.00        0.000   \n",
      "2235             0.00            0.00  ...                  0.00        0.000   \n",
      "2086             0.00            0.00  ...                  0.00        0.425   \n",
      "2206             0.00            1.29  ...                  0.00        0.000   \n",
      "\n",
      "      char_freq_(  char_freq_[  char_freq_!  char_freq_$  char_freq_#  \\\n",
      "3978        0.000         0.00        0.000        0.000        0.000   \n",
      "3882        0.175         0.00        0.000        0.000        0.000   \n",
      "1508        0.307         0.00        0.000        0.000        0.000   \n",
      "1208        0.068         0.00        0.344        0.784        0.154   \n",
      "369         0.000         0.00        0.332        0.110        0.000   \n",
      "...           ...          ...          ...          ...          ...   \n",
      "657         0.266         0.00        0.372        0.159        0.000   \n",
      "4522        0.136         0.00        0.000        0.000        0.409   \n",
      "2235        0.000         0.00        0.000        0.000        0.000   \n",
      "2086        0.000         0.17        0.000        0.000        0.000   \n",
      "2206        0.220         0.00        0.000        0.000        0.000   \n",
      "\n",
      "      capital_run_length_average  capital_run_length_longest  \\\n",
      "3978                       1.222                           2   \n",
      "3882                       1.000                           1   \n",
      "1508                       3.390                          45   \n",
      "1208                       6.094                         193   \n",
      "369                        2.315                          12   \n",
      "...                          ...                         ...   \n",
      "657                        1.894                          14   \n",
      "4522                       1.837                          12   \n",
      "2235                       2.250                           4   \n",
      "2086                       2.567                          15   \n",
      "2206                       1.350                           4   \n",
      "\n",
      "      capital_run_length_total  \n",
      "3978                        11  \n",
      "3882                        18  \n",
      "1508                       139  \n",
      "1208                      3029  \n",
      "369                        132  \n",
      "...                        ...  \n",
      "657                        161  \n",
      "4522                        68  \n",
      "2235                        18  \n",
      "2086                       172  \n",
      "2206                        27  \n",
      "\n",
      "[2587 rows x 57 columns]\n"
     ]
    }
   ],
   "source": [
    "#Splitting dataset for classification\n",
    "\n",
    "#creating test and train sets\n",
    "x_train, x_test, y_train, y_test = train_test_split(data.iloc[:,:-1],data['class'],test_size=0.25, random_state=0)\n",
    "# print(len(x_train))\n",
    "print(\"Test Data: \", len(x_test))\n",
    "#creating validation set\n",
    "x_train, x_val, y_train, y_val = train_test_split(x_train,y_train,test_size=0.25, random_state=0)\n",
    "\n",
    "print(\"Train Data: \", len(x_train))\n",
    "print(\"Validating Data: \", len(x_val))\n",
    "# print(x_train)"
   ]
  },
  {
   "cell_type": "code",
   "execution_count": 51,
   "metadata": {
    "tags": []
   },
   "outputs": [
    {
     "name": "stdout",
     "output_type": "stream",
     "text": [
      "           0         1         2         3         4         5         6   \\\n",
      "0    0.545824 -0.165386  0.359786 -0.050486  0.630765 -0.339247 -0.302192   \n",
      "1   -0.001410 -0.165386 -0.104279 -0.050486 -0.455181  0.045695 -0.302192   \n",
      "2   -0.335831 -0.165386 -0.568344 -0.050486 -0.455181 -0.339247 -0.302192   \n",
      "3   -0.335831 -0.165386 -0.568344 -0.050486 -0.455181 -0.339247 -0.302192   \n",
      "4   -0.001410 -0.074104  0.148847 -0.050486 -0.291545 -0.339247 -0.302192   \n",
      "..        ...       ...       ...       ...       ...       ...       ...   \n",
      "858 -0.335831 -0.165386 -0.568344 -0.050486 -0.455181 -0.339247 -0.302192   \n",
      "859 -0.123018 -0.165386 -0.420687 -0.050486 -0.455181 -0.094284 -0.302192   \n",
      "860  0.910647 -0.165386  0.296504 -0.050486 -0.455181  1.095536 -0.302192   \n",
      "861  0.302609 -0.165386  0.317598 -0.050486  3.323317 -0.339247 -0.302192   \n",
      "862 -0.092616 -0.165386 -0.399593 -0.050486 -0.455181 -0.059289 -0.302192   \n",
      "\n",
      "           7         8         9   ...        47        48        49  \\\n",
      "0   -0.250908 -0.317158 -0.355233  ...  4.456348 -0.077796  0.601406   \n",
      "1   -0.250908  3.220030 -0.355233  ... -0.114360  0.450605  0.306844   \n",
      "2   -0.250908 -0.317158 -0.355233  ... -0.114360 -0.147783  1.578816   \n",
      "3   -0.250908  1.609034 -0.355233  ... -0.114360 -0.147783 -0.124958   \n",
      "4   -0.250908  3.255052 -0.355233  ... -0.114360  0.212650  0.119395   \n",
      "..        ...       ...       ...  ...       ...       ...       ...   \n",
      "858 -0.250908 -0.317158 -0.355233  ... -0.114360 -0.147783 -0.473076   \n",
      "859 -0.250908 -0.317158 -0.355233  ... -0.114360  0.240644  0.032365   \n",
      "860 -0.250908 -0.317158 -0.355233  ... -0.114360 -0.147783 -0.473076   \n",
      "861 -0.250908 -0.317158 -0.355233  ...  0.612798 -0.049801 -0.088137   \n",
      "862  0.833432 -0.317158 -0.355233  ...  0.439665  0.195153  0.039060   \n",
      "\n",
      "           50        51        52        53        54        55        56  \n",
      "0    1.378324 -0.140140 -0.328114 -0.146388 -0.102378 -0.129176  0.358507  \n",
      "1    0.118515 -0.289502 -0.196350 -0.146388 -0.060997 -0.094646  0.435328  \n",
      "2    2.443666 -0.289502 -0.328114 -0.146388 -0.111304 -0.202552 -0.414405  \n",
      "3    2.511306 -0.289502 -0.107091 -0.146388  0.057121  0.185911  0.156265  \n",
      "4    0.101605 -0.289502 -0.204851 -0.146388 -0.025705  0.116851  0.563885  \n",
      "..        ...       ...       ...       ...       ...       ...       ...  \n",
      "858 -0.143593 -0.289502 -0.328114 -0.146388 -0.094918 -0.206868 -0.433218  \n",
      "859 -0.059042 -0.289502 -0.243105 -0.146388 -0.090933 -0.129176  0.668926  \n",
      "860 -0.143593  0.745361  0.305203 -0.146388  0.862045  1.213180  0.245628  \n",
      "861 -0.143593 -0.289502 -0.328114 -0.146388 -0.084333 -0.038534 -0.055385  \n",
      "862 -0.143593 -0.289502 -0.192100 -0.146388 -0.088573 -0.155073  0.651681  \n",
      "\n",
      "[863 rows x 57 columns]\n"
     ]
    }
   ],
   "source": [
    "#standardizing datasets for classification\n",
    "scaler = StandardScaler()\n",
    "scaler.fit(x_train)\n",
    "x_train_scaled = pd.DataFrame(scaler.transform(x_train))\n",
    "x_val_scaled = pd.DataFrame(scaler.transform(x_val))\n",
    "x_test_scaled = pd.DataFrame(scaler.transform(x_test))"
   ]
  },
  {
   "cell_type": "markdown",
   "metadata": {},
   "source": [
    "### Classification: Decision Tree"
   ]
  },
  {
   "cell_type": "code",
   "execution_count": 7,
   "metadata": {},
   "outputs": [],
   "source": [
    "# train with Decision Tree\n",
    "decisionTreeClf = DecisionTreeClassifier(criterion = \"entropy\", random_state = 0)\n",
    "decisionTreeClf.fit(x_train_scaled,y_train)\n",
    "\n",
    "# estimate the skill of model -> lest try with validation dataset\n",
    "y_val_pred = decisionTreeClf.predict(x_val_scaled)"
   ]
  },
  {
   "cell_type": "code",
   "execution_count": 8,
   "metadata": {},
   "outputs": [
    {
     "data": {
      "image/png": "[encoded data removed]",
      "text/plain": [
       "<Figure size 432x288 with 2 Axes>"
      ]
     },
     "metadata": {
      "needs_background": "light"
     },
     "output_type": "display_data"
    }
   ],
   "source": [
    "viewConfMatrixAndPerfMeasures(y_val,y_val_pred)"
   ]
  },
  {
   "cell_type": "code",
   "execution_count": null,
   "metadata": {},
   "outputs": [],
   "source": [
    "# TODO: How to get best attributes?"
   ]
  },
  {
   "cell_type": "markdown",
   "metadata": {},
   "source": [
    "### Classification: K Nearest Neighbors"
   ]
  },
  {
   "cell_type": "code",
   "execution_count": null,
   "metadata": {},
   "outputs": [],
   "source": [
    "# train with KNN\n",
    "# Using K = 3\n",
    "knnClf = KNeighborsClassifier(n_neighbors = 3, weights='distance')  \n",
    "knnClf.fit(x_train_scaled,y_train)\n",
    "\n",
    "# estimate the skill of model with validation dataset\n",
    "y_val_pred = knnClf.predict(x_val_scaled)"
   ]
  },
  {
   "cell_type": "code",
   "execution_count": null,
   "metadata": {},
   "outputs": [],
   "source": [
    "viewConfMatrixAndPerfMeasures(y_val,y_val_pred)"
   ]
  },
  {
   "cell_type": "code",
   "execution_count": null,
   "metadata": {},
   "outputs": [],
   "source": [
    "# Finding the best K value\n",
    "max_acc = 0\n",
    "optimal_k = 1\n",
    "print (f\"{'K value':<10}{'Acurracy':<20}{'Precision':<20}{'Recall': <20}{'F1 Score': <20}\")\n",
    "for k in range(1, 20):\n",
    "    knnClf = KNeighborsClassifier(n_neighbors = k, weights='distance')  \n",
    "    knnClf.fit(x_train_scaled,y_train)\n",
    "    y_val_pred = knnClf.predict(x_val_scaled)\n",
    "    \n",
    "    accuracy, precision, recall, f1_score = getPerfMeasures(y_val, y_val_pred)\n",
    "    \n",
    "    # decide optimal K based on optimal accuracy (is this right?)\n",
    "    if max_acc < accuracy:\n",
    "        max_acc = accuracy\n",
    "        optimal_k = k\n",
    "    print (f\"{k:<10}{accuracy:<20}{precision[0]:<20}{recall[0]: <20}{f1_score[0]: <20}\")\n",
    "print()\n",
    "print (f\"{'Optimal k: ':<15}{optimal_k:<20}\")\n",
    "print (f\"{'Accuracy ':<15}{max_acc:<20}\")"
   ]
  },
  {
   "cell_type": "code",
   "execution_count": null,
   "metadata": {},
   "outputs": [],
   "source": [
    "# Use optimal k for validate dataset\n",
    "knnClf = KNeighborsClassifier(n_neighbors = optimal_k, weights='distance')  \n",
    "knnClf.fit(x_train_scaled,y_train)\n",
    "y_val_pred = knnClf.predict(x_val_scaled)\n",
    "\n",
    "viewConfMatrixAndPerfMeasures(y_val,y_val_pred)"
   ]
  },
  {
   "cell_type": "markdown",
   "metadata": {},
   "source": [
    "### Classification: Naive Bayes"
   ]
  },
  {
   "cell_type": "markdown",
   "metadata": {},
   "source": [
    "#### Gaussian Naive Bayes"
   ]
  },
  {
   "cell_type": "code",
   "execution_count": 32,
   "metadata": {},
   "outputs": [],
   "source": [
    "# train with Gaussian Naive Bayes\n",
    "nbClf = GaussianNB()  \n",
    "nbClf.fit(x_train_scaled,y_train)\n",
    "\n",
    "# estimate the skill of model with validation dataset\n",
    "y_val_pred = nbClf.predict(x_val_scaled)"
   ]
  },
  {
   "cell_type": "code",
   "execution_count": 33,
   "metadata": {},
   "outputs": [
    {
     "name": "stdout",
     "output_type": "stream",
     "text": [
      "Accuracy =  0.8111239860950173 \n",
      "Precision = [0.96183206 0.68510638] \n",
      "Recall =  [0.71863118 0.95548961] \n",
      "F1 Score =  [0.8226333  0.79801735]\n",
      "[[378 148]\n",
      " [ 15 322]]\n"
     ]
    },
    {
     "data": {
      "image/png": "[encoded data removed]",
      "text/plain": [
       "<Figure size 432x288 with 2 Axes>"
      ]
     },
     "metadata": {
      "needs_background": "light"
     },
     "output_type": "display_data"
    }
   ],
   "source": [
    "viewConfMatrixAndPerfMeasures(y_val,y_val_pred)"
   ]
  },
  {
   "cell_type": "markdown",
   "metadata": {},
   "source": [
    "#### Multinomial Naive Bayes"
   ]
  },
  {
   "cell_type": "code",
   "execution_count": 58,
   "metadata": {},
   "outputs": [],
   "source": [
    "# train with Multinomial Naive Bayes\n",
    "nbClf = MultinomialNB()  \n",
    "nbClf.fit(x_train,y_train)\n",
    "\n",
    "# estimate the skill of model with validation dataset\n",
    "y_val_pred = nbClf.predict(x_val_scaled)"
   ]
  },
  {
   "cell_type": "code",
   "execution_count": 44,
   "metadata": {},
   "outputs": [
    {
     "name": "stdout",
     "output_type": "stream",
     "text": [
      "Accuracy =  0.6871378910776361 \n",
      "Precision = [0.98854962 0.55574043] \n",
      "Recall =  [0.49239544 0.99109792] \n",
      "F1 Score =  [0.65736041 0.71215352]\n",
      "[[259 267]\n",
      " [  3 334]]\n"
     ]
    },
    {
     "data": {
      "image/png": "[encoded data removed]",
      "text/plain": [
       "<Figure size 432x288 with 2 Axes>"
      ]
     },
     "metadata": {
      "needs_background": "light"
     },
     "output_type": "display_data"
    }
   ],
   "source": [
    "viewConfMatrixAndPerfMeasures(y_val,y_val_pred)"
   ]
  },
  {
   "cell_type": "markdown",
   "metadata": {},
   "source": [
    "#### Bernoulli Naive Bayes"
   ]
  },
  {
   "cell_type": "code",
   "execution_count": 55,
   "metadata": {},
   "outputs": [],
   "source": [
    "# train with Bernoulli Naive Bayes\n",
    "nbClf = BernoulliNB()  \n",
    "nbClf.fit(x_train_scaled,y_train)\n",
    "\n",
    "# estimate the skill of model with validation dataset\n",
    "y_val_pred = nbClf.predict(x_val_scaled)"
   ]
  },
  {
   "cell_type": "code",
   "execution_count": 56,
   "metadata": {},
   "outputs": [
    {
     "name": "stdout",
     "output_type": "stream",
     "text": [
      "Accuracy =  0.9061413673232909 \n",
      "Precision = [0.9009009  0.91558442] \n",
      "Recall =  [0.95057034 0.83679525] \n",
      "F1 Score =  [0.92506938 0.8744186 ]\n",
      "[[500  26]\n",
      " [ 55 282]]\n"
     ]
    },
    {
     "data": {
      "image/png": "[encoded data removed]",
      "text/plain": [
       "<Figure size 432x288 with 2 Axes>"
      ]
     },
     "metadata": {
      "needs_background": "light"
     },
     "output_type": "display_data"
    }
   ],
   "source": [
    "viewConfMatrixAndPerfMeasures(y_val,y_val_pred)"
   ]
  },
  {
   "cell_type": "markdown",
   "metadata": {},
   "source": [
    "### Classification: SVM"
   ]
  },
  {
   "cell_type": "code",
   "execution_count": null,
   "metadata": {},
   "outputs": [],
   "source": [
    "# train with SVM\n",
    "svmClf = SVC(kernel = 'rbf', gamma = 'auto')  \n",
    "svmClf.fit(x_train_scaled,y_train)\n",
    "\n",
    "# estimate the skill of model with validation dataset\n",
    "y_val_pred = svmClf.predict(x_val_scaled)"
   ]
  },
  {
   "cell_type": "code",
   "execution_count": null,
   "metadata": {},
   "outputs": [],
   "source": [
    "viewConfMatrixAndPerfMeasures(y_val,y_val_pred)"
   ]
  },
  {
   "cell_type": "markdown",
   "metadata": {},
   "source": [
    "## Performance Test\n",
    "### Use SVM for test dataset"
   ]
  },
  {
   "cell_type": "code",
   "execution_count": null,
   "metadata": {},
   "outputs": [],
   "source": [
    "y_test_pred = svmClf.predict(x_test_scaled)"
   ]
  },
  {
   "cell_type": "code",
   "execution_count": null,
   "metadata": {},
   "outputs": [],
   "source": [
    "viewConfMatrixAndPerfMeasures(y_test,y_test_pred)"
   ]
  },
  {
   "cell_type": "code",
   "execution_count": null,
   "metadata": {},
   "outputs": [],
   "source": []
  }
 ],
 "metadata": {
  "kernelspec": {
   "display_name": "Python 3",
   "language": "python",
   "name": "python3"
  },
  "language_info": {
   "codemirror_mode": {
    "name": "ipython",
    "version": 3
   },
   "file_extension": ".py",
   "mimetype": "text/x-python",
   "name": "python",
   "nbconvert_exporter": "python",
   "pygments_lexer": "ipython3",
   "version": "3.8.10"
  }
 },
 "nbformat": 4,
 "nbformat_minor": 4
}
