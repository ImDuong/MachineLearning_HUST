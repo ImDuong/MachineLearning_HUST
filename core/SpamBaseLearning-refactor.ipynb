{
 "cells": [
  {
   "cell_type": "code",
   "execution_count": 1,
   "metadata": {},
   "outputs": [],
   "source": [
    "# import dependencies\n",
    "import pandas as pd\n",
    "import numpy as np\n",
    "import seaborn as sns\n",
    "import matplotlib.pyplot as plt\n",
    "\n",
    "# split data to training & test \n",
    "from sklearn.model_selection import train_test_split\n",
    "\n",
    "# standard datasets\n",
    "from sklearn.preprocessing import StandardScaler\n",
    "\n",
    "# classifier algo\n",
    "from sklearn.tree import DecisionTreeClassifier\n",
    "from sklearn.neighbors import KNeighborsClassifier \n",
    "from sklearn.naive_bayes import GaussianNB\n",
    "from sklearn.svm import SVC\n",
    "\n",
    "# clustering algo\n",
    "from sklearn.cluster import KMeans\n",
    "\n",
    "from sklearn import metrics\n"
   ]
  },
  {
   "cell_type": "markdown",
   "metadata": {},
   "source": [
    "# HELPER FUNCTIONS"
   ]
  },
  {
   "cell_type": "code",
   "execution_count": 2,
   "metadata": {},
   "outputs": [],
   "source": [
    "# Ref: https://towardsdatascience.com/metrics-to-evaluate-your-machine-learning-algorithm-f10ba6e38234\n",
    "\n",
    "def getPerfMeasures(y_true, y_pred):\n",
    "    conf_matrix = metrics.confusion_matrix(y_true, y_pred)\n",
    "    accuracy = metrics.accuracy_score(y_true, y_pred)\n",
    "    precision = metrics.precision_score(y_true, y_pred, average = None)\n",
    "    recall = metrics.recall_score(y_true, y_pred, average = None)\n",
    "    f1_score = metrics.f1_score(y_true, y_pred, average = None)\n",
    "    # todo: add Mean Absolute Error, Mean Squared Error\n",
    "    return accuracy, precision, recall, f1_score\n",
    "\n",
    "def viewConfMatrixAndPerfMeasures(y_true, y_pred):\n",
    "    conf_matrix = metrics.confusion_matrix(y_true, y_pred)\n",
    "    \n",
    "    # use heatmap to get result\n",
    "    sns.heatmap(conf_matrix, annot = True, fmt = \".2f\", square = True, cmap = plt.cm.Reds)\n",
    "    plt.ylabel('True label')\n",
    "    plt.xlabel('Predicted label')\n",
    "    plt.title('Confusion matrix')\n",
    "    plt.tight_layout()\n",
    "    \n",
    "    # get performance measures\n",
    "    accuracy, precision, recall, f1_score = getPerfMeasures(y_true, y_pred)\n",
    "    print(\"Accuracy = \",accuracy, \"\\nPrecision =\",precision,\"\\nRecall = \", recall,\"\\nF1 Score = \", f1_score)\n",
    "    print(conf_matrix)\n",
    "#     print (f\"{i:<9}{data.columns[i]:<30}{c:<10}{len(data)-c: <10}\")\n",
    "    "
   ]
  },
  {
   "cell_type": "markdown",
   "metadata": {},
   "source": [
    "# COLLECT DATA"
   ]
  },
  {
   "cell_type": "code",
   "execution_count": 3,
   "metadata": {},
   "outputs": [
    {
     "data": {
      "text/html": [
       "<div>\n",
       "<style scoped>\n",
       "    .dataframe tbody tr th:only-of-type {\n",
       "        vertical-align: middle;\n",
       "    }\n",
       "\n",
       "    .dataframe tbody tr th {\n",
       "        vertical-align: top;\n",
       "    }\n",
       "\n",
       "    .dataframe thead th {\n",
       "        text-align: right;\n",
       "    }\n",
       "</style>\n",
       "<table border=\"1\" class=\"dataframe\">\n",
       "  <thead>\n",
       "    <tr style=\"text-align: right;\">\n",
       "      <th></th>\n",
       "      <th>word_freq_make</th>\n",
       "      <th>word_freq_address</th>\n",
       "      <th>word_freq_all</th>\n",
       "      <th>word_freq_3d</th>\n",
       "      <th>word_freq_our</th>\n",
       "      <th>word_freq_over</th>\n",
       "      <th>word_freq_remove</th>\n",
       "      <th>word_freq_internet</th>\n",
       "      <th>word_freq_order</th>\n",
       "      <th>word_freq_mail</th>\n",
       "      <th>...</th>\n",
       "      <th>char_freq_%3B</th>\n",
       "      <th>char_freq_%28</th>\n",
       "      <th>char_freq_%5B</th>\n",
       "      <th>char_freq_%21</th>\n",
       "      <th>char_freq_%24</th>\n",
       "      <th>char_freq_%23</th>\n",
       "      <th>capital_run_length_average</th>\n",
       "      <th>capital_run_length_longest</th>\n",
       "      <th>capital_run_length_total</th>\n",
       "      <th>class</th>\n",
       "    </tr>\n",
       "  </thead>\n",
       "  <tbody>\n",
       "    <tr>\n",
       "      <th>0</th>\n",
       "      <td>0.00</td>\n",
       "      <td>0.64</td>\n",
       "      <td>0.64</td>\n",
       "      <td>0.0</td>\n",
       "      <td>0.32</td>\n",
       "      <td>0.00</td>\n",
       "      <td>0.00</td>\n",
       "      <td>0.00</td>\n",
       "      <td>0.00</td>\n",
       "      <td>0.00</td>\n",
       "      <td>...</td>\n",
       "      <td>0.00</td>\n",
       "      <td>0.000</td>\n",
       "      <td>0.0</td>\n",
       "      <td>0.778</td>\n",
       "      <td>0.000</td>\n",
       "      <td>0.000</td>\n",
       "      <td>3.756</td>\n",
       "      <td>61</td>\n",
       "      <td>278</td>\n",
       "      <td>1</td>\n",
       "    </tr>\n",
       "    <tr>\n",
       "      <th>1</th>\n",
       "      <td>0.21</td>\n",
       "      <td>0.28</td>\n",
       "      <td>0.50</td>\n",
       "      <td>0.0</td>\n",
       "      <td>0.14</td>\n",
       "      <td>0.28</td>\n",
       "      <td>0.21</td>\n",
       "      <td>0.07</td>\n",
       "      <td>0.00</td>\n",
       "      <td>0.94</td>\n",
       "      <td>...</td>\n",
       "      <td>0.00</td>\n",
       "      <td>0.132</td>\n",
       "      <td>0.0</td>\n",
       "      <td>0.372</td>\n",
       "      <td>0.180</td>\n",
       "      <td>0.048</td>\n",
       "      <td>5.114</td>\n",
       "      <td>101</td>\n",
       "      <td>1028</td>\n",
       "      <td>1</td>\n",
       "    </tr>\n",
       "    <tr>\n",
       "      <th>2</th>\n",
       "      <td>0.06</td>\n",
       "      <td>0.00</td>\n",
       "      <td>0.71</td>\n",
       "      <td>0.0</td>\n",
       "      <td>1.23</td>\n",
       "      <td>0.19</td>\n",
       "      <td>0.19</td>\n",
       "      <td>0.12</td>\n",
       "      <td>0.64</td>\n",
       "      <td>0.25</td>\n",
       "      <td>...</td>\n",
       "      <td>0.01</td>\n",
       "      <td>0.143</td>\n",
       "      <td>0.0</td>\n",
       "      <td>0.276</td>\n",
       "      <td>0.184</td>\n",
       "      <td>0.010</td>\n",
       "      <td>9.821</td>\n",
       "      <td>485</td>\n",
       "      <td>2259</td>\n",
       "      <td>1</td>\n",
       "    </tr>\n",
       "    <tr>\n",
       "      <th>3</th>\n",
       "      <td>0.00</td>\n",
       "      <td>0.00</td>\n",
       "      <td>0.00</td>\n",
       "      <td>0.0</td>\n",
       "      <td>0.63</td>\n",
       "      <td>0.00</td>\n",
       "      <td>0.31</td>\n",
       "      <td>0.63</td>\n",
       "      <td>0.31</td>\n",
       "      <td>0.63</td>\n",
       "      <td>...</td>\n",
       "      <td>0.00</td>\n",
       "      <td>0.137</td>\n",
       "      <td>0.0</td>\n",
       "      <td>0.137</td>\n",
       "      <td>0.000</td>\n",
       "      <td>0.000</td>\n",
       "      <td>3.537</td>\n",
       "      <td>40</td>\n",
       "      <td>191</td>\n",
       "      <td>1</td>\n",
       "    </tr>\n",
       "    <tr>\n",
       "      <th>4</th>\n",
       "      <td>0.00</td>\n",
       "      <td>0.00</td>\n",
       "      <td>0.00</td>\n",
       "      <td>0.0</td>\n",
       "      <td>0.63</td>\n",
       "      <td>0.00</td>\n",
       "      <td>0.31</td>\n",
       "      <td>0.63</td>\n",
       "      <td>0.31</td>\n",
       "      <td>0.63</td>\n",
       "      <td>...</td>\n",
       "      <td>0.00</td>\n",
       "      <td>0.135</td>\n",
       "      <td>0.0</td>\n",
       "      <td>0.135</td>\n",
       "      <td>0.000</td>\n",
       "      <td>0.000</td>\n",
       "      <td>3.537</td>\n",
       "      <td>40</td>\n",
       "      <td>191</td>\n",
       "      <td>1</td>\n",
       "    </tr>\n",
       "  </tbody>\n",
       "</table>\n",
       "<p>5 rows × 58 columns</p>\n",
       "</div>"
      ],
      "text/plain": [
       "   word_freq_make  word_freq_address  word_freq_all  word_freq_3d  \\\n",
       "0            0.00               0.64           0.64           0.0   \n",
       "1            0.21               0.28           0.50           0.0   \n",
       "2            0.06               0.00           0.71           0.0   \n",
       "3            0.00               0.00           0.00           0.0   \n",
       "4            0.00               0.00           0.00           0.0   \n",
       "\n",
       "   word_freq_our  word_freq_over  word_freq_remove  word_freq_internet  \\\n",
       "0           0.32            0.00              0.00                0.00   \n",
       "1           0.14            0.28              0.21                0.07   \n",
       "2           1.23            0.19              0.19                0.12   \n",
       "3           0.63            0.00              0.31                0.63   \n",
       "4           0.63            0.00              0.31                0.63   \n",
       "\n",
       "   word_freq_order  word_freq_mail  ...  char_freq_%3B  char_freq_%28  \\\n",
       "0             0.00            0.00  ...           0.00          0.000   \n",
       "1             0.00            0.94  ...           0.00          0.132   \n",
       "2             0.64            0.25  ...           0.01          0.143   \n",
       "3             0.31            0.63  ...           0.00          0.137   \n",
       "4             0.31            0.63  ...           0.00          0.135   \n",
       "\n",
       "   char_freq_%5B  char_freq_%21  char_freq_%24  char_freq_%23  \\\n",
       "0            0.0          0.778          0.000          0.000   \n",
       "1            0.0          0.372          0.180          0.048   \n",
       "2            0.0          0.276          0.184          0.010   \n",
       "3            0.0          0.137          0.000          0.000   \n",
       "4            0.0          0.135          0.000          0.000   \n",
       "\n",
       "   capital_run_length_average  capital_run_length_longest  \\\n",
       "0                       3.756                          61   \n",
       "1                       5.114                         101   \n",
       "2                       9.821                         485   \n",
       "3                       3.537                          40   \n",
       "4                       3.537                          40   \n",
       "\n",
       "   capital_run_length_total  class  \n",
       "0                       278      1  \n",
       "1                      1028      1  \n",
       "2                      2259      1  \n",
       "3                       191      1  \n",
       "4                       191      1  \n",
       "\n",
       "[5 rows x 58 columns]"
      ]
     },
     "execution_count": 3,
     "metadata": {},
     "output_type": "execute_result"
    }
   ],
   "source": [
    "#import dataset\n",
    "data = pd.read_csv(\"../processed_data/spambase.csv\")\n",
    "data.head()\n"
   ]
  },
  {
   "cell_type": "code",
   "execution_count": 4,
   "metadata": {},
   "outputs": [
    {
     "name": "stdout",
     "output_type": "stream",
     "text": [
      "Index(['word_freq_make', 'word_freq_address', 'word_freq_all', 'word_freq_3d',\n",
      "       'word_freq_our', 'word_freq_over', 'word_freq_remove',\n",
      "       'word_freq_internet', 'word_freq_order', 'word_freq_mail',\n",
      "       'word_freq_receive', 'word_freq_will', 'word_freq_people',\n",
      "       'word_freq_report', 'word_freq_addresses', 'word_freq_free',\n",
      "       'word_freq_business', 'word_freq_email', 'word_freq_you',\n",
      "       'word_freq_credit', 'word_freq_your', 'word_freq_font', 'word_freq_000',\n",
      "       'word_freq_money', 'word_freq_hp', 'word_freq_hpl', 'word_freq_george',\n",
      "       'word_freq_650', 'word_freq_lab', 'word_freq_labs', 'word_freq_telnet',\n",
      "       'word_freq_857', 'word_freq_data', 'word_freq_415', 'word_freq_85',\n",
      "       'word_freq_technology', 'word_freq_1999', 'word_freq_parts',\n",
      "       'word_freq_pm', 'word_freq_direct', 'word_freq_cs', 'word_freq_meeting',\n",
      "       'word_freq_original', 'word_freq_project', 'word_freq_re',\n",
      "       'word_freq_edu', 'word_freq_table', 'word_freq_conference',\n",
      "       'char_freq_%3B', 'char_freq_%28', 'char_freq_%5B', 'char_freq_%21',\n",
      "       'char_freq_%24', 'char_freq_%23', 'capital_run_length_average',\n",
      "       'capital_run_length_longest', 'capital_run_length_total', 'class'],\n",
      "      dtype='object')\n",
      "58\n",
      "4601\n"
     ]
    }
   ],
   "source": [
    "print(data.columns)\n",
    "print(len(data.columns))\n",
    "print(len(data))"
   ]
  },
  {
   "cell_type": "code",
   "execution_count": 5,
   "metadata": {},
   "outputs": [
    {
     "data": {
      "text/plain": [
       "array([False, False, False, False, False, False, False, False, False,\n",
       "       False, False, False, False, False, False, False, False, False,\n",
       "       False, False, False, False, False, False, False, False, False,\n",
       "       False, False, False, False, False, False, False, False, False,\n",
       "       False, False, False, False, False, False, False, False, False,\n",
       "       False, False, False, False, False, False, False, False, False,\n",
       "       False, False, False, False])"
      ]
     },
     "execution_count": 5,
     "metadata": {},
     "output_type": "execute_result"
    }
   ],
   "source": [
    "# check if any column is null \n",
    "data.columns.isnull()"
   ]
  },
  {
   "cell_type": "markdown",
   "metadata": {},
   "source": [
    "# EDA"
   ]
  },
  {
   "cell_type": "code",
   "execution_count": 6,
   "metadata": {},
   "outputs": [
    {
     "name": "stdout",
     "output_type": "stream",
     "text": [
      "        count      mean       std  min  25%  50%   75%   max\n",
      "class                                                       \n",
      "0      2788.0  0.073479  0.297838  0.0  0.0  0.0  0.00  4.34\n",
      "1      1813.0  0.152339  0.310645  0.0  0.0  0.0  0.17  4.54\n"
     ]
    }
   ],
   "source": [
    "grouped_data = data.groupby(data['class'])\n",
    "print(grouped_data[data.columns[0]].describe(include='all'))"
   ]
  },
  {
   "cell_type": "code",
   "execution_count": 7,
   "metadata": {},
   "outputs": [
    {
     "data": {
      "text/html": [
       "<div>\n",
       "<style scoped>\n",
       "    .dataframe tbody tr th:only-of-type {\n",
       "        vertical-align: middle;\n",
       "    }\n",
       "\n",
       "    .dataframe tbody tr th {\n",
       "        vertical-align: top;\n",
       "    }\n",
       "\n",
       "    .dataframe thead th {\n",
       "        text-align: right;\n",
       "    }\n",
       "</style>\n",
       "<table border=\"1\" class=\"dataframe\">\n",
       "  <thead>\n",
       "    <tr style=\"text-align: right;\">\n",
       "      <th></th>\n",
       "      <th>word_freq_make</th>\n",
       "      <th>word_freq_address</th>\n",
       "      <th>word_freq_all</th>\n",
       "      <th>word_freq_3d</th>\n",
       "      <th>word_freq_our</th>\n",
       "      <th>word_freq_over</th>\n",
       "      <th>word_freq_remove</th>\n",
       "      <th>word_freq_internet</th>\n",
       "      <th>word_freq_order</th>\n",
       "      <th>word_freq_mail</th>\n",
       "      <th>...</th>\n",
       "      <th>char_freq_%3B</th>\n",
       "      <th>char_freq_%28</th>\n",
       "      <th>char_freq_%5B</th>\n",
       "      <th>char_freq_%21</th>\n",
       "      <th>char_freq_%24</th>\n",
       "      <th>char_freq_%23</th>\n",
       "      <th>capital_run_length_average</th>\n",
       "      <th>capital_run_length_longest</th>\n",
       "      <th>capital_run_length_total</th>\n",
       "      <th>class</th>\n",
       "    </tr>\n",
       "  </thead>\n",
       "  <tbody>\n",
       "    <tr>\n",
       "      <th>0</th>\n",
       "      <td>0.0</td>\n",
       "      <td>0.64</td>\n",
       "      <td>0.64</td>\n",
       "      <td>0.0</td>\n",
       "      <td>0.32</td>\n",
       "      <td>0.0</td>\n",
       "      <td>0.00</td>\n",
       "      <td>0.00</td>\n",
       "      <td>0.00</td>\n",
       "      <td>0.00</td>\n",
       "      <td>...</td>\n",
       "      <td>0.0</td>\n",
       "      <td>0.000</td>\n",
       "      <td>0.0</td>\n",
       "      <td>0.778</td>\n",
       "      <td>0.000</td>\n",
       "      <td>0.0</td>\n",
       "      <td>3.756</td>\n",
       "      <td>61</td>\n",
       "      <td>278</td>\n",
       "      <td>1</td>\n",
       "    </tr>\n",
       "    <tr>\n",
       "      <th>3</th>\n",
       "      <td>0.0</td>\n",
       "      <td>0.00</td>\n",
       "      <td>0.00</td>\n",
       "      <td>0.0</td>\n",
       "      <td>0.63</td>\n",
       "      <td>0.0</td>\n",
       "      <td>0.31</td>\n",
       "      <td>0.63</td>\n",
       "      <td>0.31</td>\n",
       "      <td>0.63</td>\n",
       "      <td>...</td>\n",
       "      <td>0.0</td>\n",
       "      <td>0.137</td>\n",
       "      <td>0.0</td>\n",
       "      <td>0.137</td>\n",
       "      <td>0.000</td>\n",
       "      <td>0.0</td>\n",
       "      <td>3.537</td>\n",
       "      <td>40</td>\n",
       "      <td>191</td>\n",
       "      <td>1</td>\n",
       "    </tr>\n",
       "    <tr>\n",
       "      <th>4</th>\n",
       "      <td>0.0</td>\n",
       "      <td>0.00</td>\n",
       "      <td>0.00</td>\n",
       "      <td>0.0</td>\n",
       "      <td>0.63</td>\n",
       "      <td>0.0</td>\n",
       "      <td>0.31</td>\n",
       "      <td>0.63</td>\n",
       "      <td>0.31</td>\n",
       "      <td>0.63</td>\n",
       "      <td>...</td>\n",
       "      <td>0.0</td>\n",
       "      <td>0.135</td>\n",
       "      <td>0.0</td>\n",
       "      <td>0.135</td>\n",
       "      <td>0.000</td>\n",
       "      <td>0.0</td>\n",
       "      <td>3.537</td>\n",
       "      <td>40</td>\n",
       "      <td>191</td>\n",
       "      <td>1</td>\n",
       "    </tr>\n",
       "    <tr>\n",
       "      <th>5</th>\n",
       "      <td>0.0</td>\n",
       "      <td>0.00</td>\n",
       "      <td>0.00</td>\n",
       "      <td>0.0</td>\n",
       "      <td>1.85</td>\n",
       "      <td>0.0</td>\n",
       "      <td>0.00</td>\n",
       "      <td>1.85</td>\n",
       "      <td>0.00</td>\n",
       "      <td>0.00</td>\n",
       "      <td>...</td>\n",
       "      <td>0.0</td>\n",
       "      <td>0.223</td>\n",
       "      <td>0.0</td>\n",
       "      <td>0.000</td>\n",
       "      <td>0.000</td>\n",
       "      <td>0.0</td>\n",
       "      <td>3.000</td>\n",
       "      <td>15</td>\n",
       "      <td>54</td>\n",
       "      <td>1</td>\n",
       "    </tr>\n",
       "    <tr>\n",
       "      <th>6</th>\n",
       "      <td>0.0</td>\n",
       "      <td>0.00</td>\n",
       "      <td>0.00</td>\n",
       "      <td>0.0</td>\n",
       "      <td>1.92</td>\n",
       "      <td>0.0</td>\n",
       "      <td>0.00</td>\n",
       "      <td>0.00</td>\n",
       "      <td>0.00</td>\n",
       "      <td>0.64</td>\n",
       "      <td>...</td>\n",
       "      <td>0.0</td>\n",
       "      <td>0.054</td>\n",
       "      <td>0.0</td>\n",
       "      <td>0.164</td>\n",
       "      <td>0.054</td>\n",
       "      <td>0.0</td>\n",
       "      <td>1.671</td>\n",
       "      <td>4</td>\n",
       "      <td>112</td>\n",
       "      <td>1</td>\n",
       "    </tr>\n",
       "    <tr>\n",
       "      <th>...</th>\n",
       "      <td>...</td>\n",
       "      <td>...</td>\n",
       "      <td>...</td>\n",
       "      <td>...</td>\n",
       "      <td>...</td>\n",
       "      <td>...</td>\n",
       "      <td>...</td>\n",
       "      <td>...</td>\n",
       "      <td>...</td>\n",
       "      <td>...</td>\n",
       "      <td>...</td>\n",
       "      <td>...</td>\n",
       "      <td>...</td>\n",
       "      <td>...</td>\n",
       "      <td>...</td>\n",
       "      <td>...</td>\n",
       "      <td>...</td>\n",
       "      <td>...</td>\n",
       "      <td>...</td>\n",
       "      <td>...</td>\n",
       "      <td>...</td>\n",
       "    </tr>\n",
       "    <tr>\n",
       "      <th>4593</th>\n",
       "      <td>0.0</td>\n",
       "      <td>0.00</td>\n",
       "      <td>0.00</td>\n",
       "      <td>0.0</td>\n",
       "      <td>0.00</td>\n",
       "      <td>0.0</td>\n",
       "      <td>0.00</td>\n",
       "      <td>0.00</td>\n",
       "      <td>0.00</td>\n",
       "      <td>0.00</td>\n",
       "      <td>...</td>\n",
       "      <td>0.0</td>\n",
       "      <td>0.000</td>\n",
       "      <td>0.0</td>\n",
       "      <td>1.052</td>\n",
       "      <td>0.000</td>\n",
       "      <td>0.0</td>\n",
       "      <td>1.000</td>\n",
       "      <td>1</td>\n",
       "      <td>6</td>\n",
       "      <td>0</td>\n",
       "    </tr>\n",
       "    <tr>\n",
       "      <th>4594</th>\n",
       "      <td>0.0</td>\n",
       "      <td>0.00</td>\n",
       "      <td>0.00</td>\n",
       "      <td>0.0</td>\n",
       "      <td>0.00</td>\n",
       "      <td>0.0</td>\n",
       "      <td>0.00</td>\n",
       "      <td>0.00</td>\n",
       "      <td>0.00</td>\n",
       "      <td>0.00</td>\n",
       "      <td>...</td>\n",
       "      <td>0.0</td>\n",
       "      <td>0.630</td>\n",
       "      <td>0.0</td>\n",
       "      <td>0.000</td>\n",
       "      <td>0.000</td>\n",
       "      <td>0.0</td>\n",
       "      <td>1.727</td>\n",
       "      <td>5</td>\n",
       "      <td>19</td>\n",
       "      <td>0</td>\n",
       "    </tr>\n",
       "    <tr>\n",
       "      <th>4595</th>\n",
       "      <td>0.0</td>\n",
       "      <td>0.00</td>\n",
       "      <td>1.19</td>\n",
       "      <td>0.0</td>\n",
       "      <td>0.00</td>\n",
       "      <td>0.0</td>\n",
       "      <td>0.00</td>\n",
       "      <td>0.00</td>\n",
       "      <td>0.00</td>\n",
       "      <td>0.00</td>\n",
       "      <td>...</td>\n",
       "      <td>0.0</td>\n",
       "      <td>0.000</td>\n",
       "      <td>0.0</td>\n",
       "      <td>0.000</td>\n",
       "      <td>0.000</td>\n",
       "      <td>0.0</td>\n",
       "      <td>1.000</td>\n",
       "      <td>1</td>\n",
       "      <td>24</td>\n",
       "      <td>0</td>\n",
       "    </tr>\n",
       "    <tr>\n",
       "      <th>4597</th>\n",
       "      <td>0.0</td>\n",
       "      <td>0.00</td>\n",
       "      <td>0.00</td>\n",
       "      <td>0.0</td>\n",
       "      <td>0.00</td>\n",
       "      <td>0.0</td>\n",
       "      <td>0.00</td>\n",
       "      <td>0.00</td>\n",
       "      <td>0.00</td>\n",
       "      <td>0.00</td>\n",
       "      <td>...</td>\n",
       "      <td>0.0</td>\n",
       "      <td>0.000</td>\n",
       "      <td>0.0</td>\n",
       "      <td>0.353</td>\n",
       "      <td>0.000</td>\n",
       "      <td>0.0</td>\n",
       "      <td>1.555</td>\n",
       "      <td>4</td>\n",
       "      <td>14</td>\n",
       "      <td>0</td>\n",
       "    </tr>\n",
       "    <tr>\n",
       "      <th>4600</th>\n",
       "      <td>0.0</td>\n",
       "      <td>0.00</td>\n",
       "      <td>0.65</td>\n",
       "      <td>0.0</td>\n",
       "      <td>0.00</td>\n",
       "      <td>0.0</td>\n",
       "      <td>0.00</td>\n",
       "      <td>0.00</td>\n",
       "      <td>0.00</td>\n",
       "      <td>0.00</td>\n",
       "      <td>...</td>\n",
       "      <td>0.0</td>\n",
       "      <td>0.000</td>\n",
       "      <td>0.0</td>\n",
       "      <td>0.125</td>\n",
       "      <td>0.000</td>\n",
       "      <td>0.0</td>\n",
       "      <td>1.250</td>\n",
       "      <td>5</td>\n",
       "      <td>40</td>\n",
       "      <td>0</td>\n",
       "    </tr>\n",
       "  </tbody>\n",
       "</table>\n",
       "<p>3548 rows × 58 columns</p>\n",
       "</div>"
      ],
      "text/plain": [
       "      word_freq_make  word_freq_address  word_freq_all  word_freq_3d  \\\n",
       "0                0.0               0.64           0.64           0.0   \n",
       "3                0.0               0.00           0.00           0.0   \n",
       "4                0.0               0.00           0.00           0.0   \n",
       "5                0.0               0.00           0.00           0.0   \n",
       "6                0.0               0.00           0.00           0.0   \n",
       "...              ...                ...            ...           ...   \n",
       "4593             0.0               0.00           0.00           0.0   \n",
       "4594             0.0               0.00           0.00           0.0   \n",
       "4595             0.0               0.00           1.19           0.0   \n",
       "4597             0.0               0.00           0.00           0.0   \n",
       "4600             0.0               0.00           0.65           0.0   \n",
       "\n",
       "      word_freq_our  word_freq_over  word_freq_remove  word_freq_internet  \\\n",
       "0              0.32             0.0              0.00                0.00   \n",
       "3              0.63             0.0              0.31                0.63   \n",
       "4              0.63             0.0              0.31                0.63   \n",
       "5              1.85             0.0              0.00                1.85   \n",
       "6              1.92             0.0              0.00                0.00   \n",
       "...             ...             ...               ...                 ...   \n",
       "4593           0.00             0.0              0.00                0.00   \n",
       "4594           0.00             0.0              0.00                0.00   \n",
       "4595           0.00             0.0              0.00                0.00   \n",
       "4597           0.00             0.0              0.00                0.00   \n",
       "4600           0.00             0.0              0.00                0.00   \n",
       "\n",
       "      word_freq_order  word_freq_mail  ...  char_freq_%3B  char_freq_%28  \\\n",
       "0                0.00            0.00  ...            0.0          0.000   \n",
       "3                0.31            0.63  ...            0.0          0.137   \n",
       "4                0.31            0.63  ...            0.0          0.135   \n",
       "5                0.00            0.00  ...            0.0          0.223   \n",
       "6                0.00            0.64  ...            0.0          0.054   \n",
       "...               ...             ...  ...            ...            ...   \n",
       "4593             0.00            0.00  ...            0.0          0.000   \n",
       "4594             0.00            0.00  ...            0.0          0.630   \n",
       "4595             0.00            0.00  ...            0.0          0.000   \n",
       "4597             0.00            0.00  ...            0.0          0.000   \n",
       "4600             0.00            0.00  ...            0.0          0.000   \n",
       "\n",
       "      char_freq_%5B  char_freq_%21  char_freq_%24  char_freq_%23  \\\n",
       "0               0.0          0.778          0.000            0.0   \n",
       "3               0.0          0.137          0.000            0.0   \n",
       "4               0.0          0.135          0.000            0.0   \n",
       "5               0.0          0.000          0.000            0.0   \n",
       "6               0.0          0.164          0.054            0.0   \n",
       "...             ...            ...            ...            ...   \n",
       "4593            0.0          1.052          0.000            0.0   \n",
       "4594            0.0          0.000          0.000            0.0   \n",
       "4595            0.0          0.000          0.000            0.0   \n",
       "4597            0.0          0.353          0.000            0.0   \n",
       "4600            0.0          0.125          0.000            0.0   \n",
       "\n",
       "      capital_run_length_average  capital_run_length_longest  \\\n",
       "0                          3.756                          61   \n",
       "3                          3.537                          40   \n",
       "4                          3.537                          40   \n",
       "5                          3.000                          15   \n",
       "6                          1.671                           4   \n",
       "...                          ...                         ...   \n",
       "4593                       1.000                           1   \n",
       "4594                       1.727                           5   \n",
       "4595                       1.000                           1   \n",
       "4597                       1.555                           4   \n",
       "4600                       1.250                           5   \n",
       "\n",
       "      capital_run_length_total  class  \n",
       "0                          278      1  \n",
       "3                          191      1  \n",
       "4                          191      1  \n",
       "5                           54      1  \n",
       "6                          112      1  \n",
       "...                        ...    ...  \n",
       "4593                         6      0  \n",
       "4594                        19      0  \n",
       "4595                        24      0  \n",
       "4597                        14      0  \n",
       "4600                        40      0  \n",
       "\n",
       "[3548 rows x 58 columns]"
      ]
     },
     "execution_count": 7,
     "metadata": {},
     "output_type": "execute_result"
    }
   ],
   "source": [
    "data[data[data.columns[0]] == 0]"
   ]
  },
  {
   "cell_type": "code",
   "execution_count": 8,
   "metadata": {},
   "outputs": [
    {
     "name": "stdout",
     "output_type": "stream",
     "text": [
      "col_idx  columns                       0s        other     \n",
      "0        word_freq_make                3548      1053      \n",
      "1        word_freq_address             3703      898       \n",
      "2        word_freq_all                 2713      1888      \n",
      "3        word_freq_3d                  4554      47        \n",
      "4        word_freq_our                 2853      1748      \n",
      "5        word_freq_over                3602      999       \n",
      "6        word_freq_remove              3794      807       \n",
      "7        word_freq_internet            3777      824       \n",
      "8        word_freq_order               3828      773       \n",
      "9        word_freq_mail                3299      1302      \n",
      "10       word_freq_receive             3892      709       \n",
      "11       word_freq_will                2276      2325      \n",
      "12       word_freq_people              3749      852       \n",
      "13       word_freq_report              4244      357       \n",
      "14       word_freq_addresses           4265      336       \n",
      "15       word_freq_free                3360      1241      \n",
      "16       word_freq_business            3638      963       \n",
      "17       word_freq_email               3563      1038      \n",
      "18       word_freq_you                 1374      3227      \n",
      "19       word_freq_credit              4177      424       \n",
      "20       word_freq_your                2178      2423      \n",
      "21       word_freq_font                4484      117       \n",
      "22       word_freq_000                 3922      679       \n",
      "23       word_freq_money               3866      735       \n",
      "24       word_freq_hp                  3511      1090      \n",
      "25       word_freq_hpl                 3790      811       \n",
      "26       word_freq_george              3821      780       \n",
      "27       word_freq_650                 4138      463       \n",
      "28       word_freq_lab                 4229      372       \n",
      "29       word_freq_labs                4132      469       \n",
      "30       word_freq_telnet              4308      293       \n",
      "31       word_freq_857                 4396      205       \n",
      "32       word_freq_data                4196      405       \n",
      "33       word_freq_415                 4386      215       \n",
      "34       word_freq_85                  4116      485       \n",
      "35       word_freq_technology          4002      599       \n",
      "36       word_freq_1999                3772      829       \n",
      "37       word_freq_parts               4518      83        \n",
      "38       word_freq_pm                  4217      384       \n",
      "39       word_freq_direct              4148      453       \n",
      "40       word_freq_cs                  4453      148       \n",
      "41       word_freq_meeting             4260      341       \n",
      "42       word_freq_original            4226      375       \n",
      "43       word_freq_project             4274      327       \n",
      "44       word_freq_re                  3290      1311      \n",
      "45       word_freq_edu                 4084      517       \n",
      "46       word_freq_table               4538      63        \n",
      "47       word_freq_conference          4398      203       \n",
      "48       char_freq_%3B                 3811      790       \n",
      "49       char_freq_%28                 1886      2715      \n",
      "50       char_freq_%5B                 4072      529       \n",
      "51       char_freq_%21                 2343      2258      \n",
      "52       char_freq_%24                 3201      1400      \n",
      "53       char_freq_%23                 3851      750       \n",
      "54       capital_run_length_average    0         4601      \n",
      "55       capital_run_length_longest    0         4601      \n",
      "56       capital_run_length_total      0         4601      \n",
      "57       class                         2788      1813      \n"
     ]
    }
   ],
   "source": [
    "print (f\"{'col_idx':<9}{'columns':<30}{'0s':<10}{'other': <10}\")\n",
    "for i in range(len(data.columns)):\n",
    "    c = data[data[data.columns[i]] == 0].shape[0]\n",
    "    print (f\"{i:<9}{data.columns[i]:<30}{c:<10}{len(data)-c: <10}\")"
   ]
  },
  {
   "cell_type": "code",
   "execution_count": 9,
   "metadata": {},
   "outputs": [
    {
     "data": {
      "image/png": "[encoded data removed]",
      "text/plain": [
       "<Figure size 1440x360 with 10 Axes>"
      ]
     },
     "metadata": {
      "needs_background": "light"
     },
     "output_type": "display_data"
    }
   ],
   "source": [
    "## TODO: plot for all columns\n",
    "fig, axes = plt.subplots(1, 10, figsize = (20, 5))\n",
    "for i in range(0,10):\n",
    "    sns.boxplot(x='class', y = data.columns[i], data = data, orient = 'v', ax = axes[i], whis=10)\n",
    "plt.tight_layout()"
   ]
  },
  {
   "cell_type": "code",
   "execution_count": 10,
   "metadata": {},
   "outputs": [],
   "source": [
    "## TODO: more EDA"
   ]
  },
  {
   "cell_type": "markdown",
   "metadata": {},
   "source": [
    "# Data Modelling\n",
    "## Classification\n",
    "- Using Decision Tree, KNN, Naive Bayes & SVM"
   ]
  },
  {
   "cell_type": "code",
   "execution_count": 11,
   "metadata": {},
   "outputs": [
    {
     "name": "stdout",
     "output_type": "stream",
     "text": [
      "Test Data:  1151\n",
      "Train Data:  2587\n",
      "Validating Data:  863\n"
     ]
    }
   ],
   "source": [
    "#Splitting dataset for classification\n",
    "\n",
    "#creating test and train sets\n",
    "x_train, x_test, y_train, y_test = train_test_split(data.iloc[:,:-1],data['class'],test_size=0.25, random_state=0)\n",
    "# print(len(x_train))\n",
    "print(\"Test Data: \", len(x_test))\n",
    "\n",
    "#creating validation set\n",
    "x_train, x_val, y_train, y_val = train_test_split(x_train,y_train,test_size=0.25, random_state=0)\n",
    "print(\"Train Data: \", len(x_train))\n",
    "print(\"Validating Data: \", len(x_val))"
   ]
  },
  {
   "cell_type": "code",
   "execution_count": 12,
   "metadata": {},
   "outputs": [],
   "source": [
    "#standardizing datasets for classification\n",
    "scaler = StandardScaler()\n",
    "scaler.fit(x_train)\n",
    "x_train_scaled = pd.DataFrame(scaler.transform(x_train))\n",
    "x_val_scaled = pd.DataFrame(scaler.transform(x_val))\n",
    "x_test_scaled = pd.DataFrame(scaler.transform(x_test))"
   ]
  },
  {
   "cell_type": "markdown",
   "metadata": {},
   "source": [
    "### Classification: Decision Tree"
   ]
  },
  {
   "cell_type": "code",
   "execution_count": 13,
   "metadata": {},
   "outputs": [],
   "source": [
    "# train with Decision Tree\n",
    "decisionTreeClf = DecisionTreeClassifier(criterion = \"entropy\", random_state = 0)\n",
    "decisionTreeClf.fit(x_train_scaled,y_train)\n",
    "\n",
    "# estimate the skill of model -> lest try with validation dataset\n",
    "y_val_pred = decisionTreeClf.predict(x_val_scaled)"
   ]
  },
  {
   "cell_type": "code",
   "execution_count": 14,
   "metadata": {},
   "outputs": [
    {
     "name": "stdout",
     "output_type": "stream",
     "text": [
      "Accuracy =  0.9142526071842411 \n",
      "Precision = [0.94140625 0.87464387] \n",
      "Recall =  [0.91634981 0.91097923] \n",
      "F1 Score =  [0.92870906 0.89244186]\n",
      "[[482  44]\n",
      " [ 30 307]]\n"
     ]
    },
    {
     "data": {
      "image/png": "[encoded data removed]",
      "text/plain": [
       "<Figure size 432x288 with 2 Axes>"
      ]
     },
     "metadata": {
      "needs_background": "light"
     },
     "output_type": "display_data"
    }
   ],
   "source": [
    "viewConfMatrixAndPerfMeasures(y_val,y_val_pred)"
   ]
  },
  {
   "cell_type": "code",
   "execution_count": 15,
   "metadata": {},
   "outputs": [],
   "source": [
    "# TODO: How to get best attributes?"
   ]
  },
  {
   "cell_type": "markdown",
   "metadata": {},
   "source": [
    "### Classification: K Nearest Neighbors"
   ]
  },
  {
   "cell_type": "code",
   "execution_count": 26,
   "metadata": {},
   "outputs": [],
   "source": [
    "# train with KNN\n",
    "# Using K = 3\n",
    "knnClf = KNeighborsClassifier(n_neighbors = 3, weights='distance')  \n",
    "knnClf.fit(x_train_scaled,y_train)\n",
    "\n",
    "# estimate the skill of model with validation dataset\n",
    "y_val_pred = knnClf.predict(x_val_scaled)"
   ]
  },
  {
   "cell_type": "code",
   "execution_count": 27,
   "metadata": {},
   "outputs": [
    {
     "name": "stdout",
     "output_type": "stream",
     "text": [
      "Accuracy =  0.9200463499420626 \n",
      "Precision = [0.92393321 0.91358025] \n",
      "Recall =  [0.94676806 0.87833828] \n",
      "F1 Score =  [0.93521127 0.89561271]\n",
      "[[498  28]\n",
      " [ 41 296]]\n"
     ]
    },
    {
     "data": {
      "image/png": "[encoded data removed]",
      "text/plain": [
       "<Figure size 432x288 with 2 Axes>"
      ]
     },
     "metadata": {
      "needs_background": "light"
     },
     "output_type": "display_data"
    }
   ],
   "source": [
    "viewConfMatrixAndPerfMeasures(y_val,y_val_pred)"
   ]
  },
  {
   "cell_type": "code",
   "execution_count": 18,
   "metadata": {},
   "outputs": [
    {
     "name": "stdout",
     "output_type": "stream",
     "text": [
      "K value   Acurracy            Precision           Recall              F1 Score            \n",
      "1         0.8876013904982619  0.9132947976878613  0.9011406844106464  0.907177033492823   \n",
      "2         0.8876013904982619  0.9132947976878613  0.9011406844106464  0.907177033492823   \n",
      "3         0.9200463499420626  0.9239332096474954  0.9467680608365019  0.9352112676056338  \n",
      "4         0.9188876013904983  0.9237918215613383  0.9448669201520913  0.9342105263157895  \n",
      "5         0.9096176129779838  0.9117647058823529  0.9429657794676806  0.9271028037383178  \n",
      "6         0.9200463499420626  0.9208103130755064  0.9505703422053232  0.9354536950420954  \n",
      "7         0.9177288528389339  0.9205175600739371  0.9467680608365019  0.9334582942830366  \n",
      "8         0.9258400926998841  0.9261992619926199  0.9543726235741445  0.9400749063670412  \n",
      "9         0.9130938586326767  0.9183673469387755  0.94106463878327    0.9295774647887324  \n",
      "10        0.9212050984936269  0.922509225092251   0.9505703422053232  0.9363295880149813  \n",
      "11        0.9223638470451911  0.9257884972170687  0.9486692015209125  0.9370892018779342  \n",
      "12        0.9246813441483198  0.9292364990689013  0.9486692015209125  0.9388523047977421  \n",
      "13        0.9235225955967555  0.9275092936802974  0.9486692015209125  0.9379699248120301  \n",
      "14        0.9223638470451911  0.9257884972170687  0.9486692015209125  0.9370892018779342  \n",
      "15        0.9188876013904983  0.9222222222222223  0.9467680608365019  0.9343339587242027  \n",
      "16        0.9200463499420626  0.9192660550458716  0.9524714828897338  0.9355742296918766  \n",
      "17        0.9200463499420626  0.9192660550458716  0.9524714828897338  0.9355742296918766  \n",
      "18        0.9223638470451911  0.9226519337016574  0.9524714828897338  0.9373246024321796  \n",
      "19        0.9212050984936269  0.9209558823529411  0.9524714828897338  0.936448598130841   \n",
      "\n",
      "Optimal k:     8                   \n",
      "Accuracy       0.9258400926998841  \n"
     ]
    }
   ],
   "source": [
    "# Finding the best K value\n",
    "max_acc = 0\n",
    "optimal_k = 1\n",
    "print (f\"{'K value':<10}{'Acurracy':<20}{'Precision':<20}{'Recall': <20}{'F1 Score': <20}\")\n",
    "for k in range(1, 20):\n",
    "    knnClf = KNeighborsClassifier(n_neighbors = k, weights='distance')  \n",
    "    knnClf.fit(x_train_scaled,y_train)\n",
    "    y_val_pred = knnClf.predict(x_val_scaled)\n",
    "    \n",
    "    accuracy, precision, recall, f1_score = getPerfMeasures(y_val, y_val_pred)\n",
    "    \n",
    "    # decide optimal K based on optimal accuracy (is this right?)\n",
    "    if max_acc < accuracy:\n",
    "        max_acc = accuracy\n",
    "        optimal_k = k\n",
    "    print (f\"{k:<10}{accuracy:<20}{precision[0]:<20}{recall[0]: <20}{f1_score[0]: <20}\")\n",
    "print()\n",
    "print (f\"{'Optimal k: ':<15}{optimal_k:<20}\")\n",
    "print (f\"{'Accuracy ':<15}{max_acc:<20}\")"
   ]
  },
  {
   "cell_type": "code",
   "execution_count": 19,
   "metadata": {},
   "outputs": [
    {
     "name": "stdout",
     "output_type": "stream",
     "text": [
      "Accuracy =  0.9258400926998841 \n",
      "Precision = [0.92619926 0.92523364] \n",
      "Recall =  [0.95437262 0.88130564] \n",
      "F1 Score =  [0.94007491 0.90273556]\n",
      "[[502  24]\n",
      " [ 40 297]]\n"
     ]
    },
    {
     "data": {
      "image/png": "[encoded data removed]",
      "text/plain": [
       "<Figure size 432x288 with 2 Axes>"
      ]
     },
     "metadata": {
      "needs_background": "light"
     },
     "output_type": "display_data"
    }
   ],
   "source": [
    "# Use optimal k for validate dataset\n",
    "knnClf = KNeighborsClassifier(n_neighbors = optimal_k, weights='distance')  \n",
    "knnClf.fit(x_train_scaled,y_train)\n",
    "y_val_pred = knnClf.predict(x_val_scaled)\n",
    "\n",
    "viewConfMatrixAndPerfMeasures(y_val,y_val_pred)"
   ]
  },
  {
   "cell_type": "markdown",
   "metadata": {},
   "source": [
    "### Classification: Naive Bayes"
   ]
  },
  {
   "cell_type": "code",
   "execution_count": 20,
   "metadata": {},
   "outputs": [],
   "source": [
    "# train with Naive Bayes\n",
    "nbClf = GaussianNB()  \n",
    "nbClf.fit(x_train_scaled,y_train)\n",
    "\n",
    "# estimate the skill of model with validation dataset\n",
    "y_val_pred = nbClf.predict(x_val_scaled)"
   ]
  },
  {
   "cell_type": "code",
   "execution_count": 21,
   "metadata": {},
   "outputs": [
    {
     "name": "stdout",
     "output_type": "stream",
     "text": [
      "Accuracy =  0.8111239860950173 \n",
      "Precision = [0.96183206 0.68510638] \n",
      "Recall =  [0.71863118 0.95548961] \n",
      "F1 Score =  [0.8226333  0.79801735]\n",
      "[[378 148]\n",
      " [ 15 322]]\n"
     ]
    },
    {
     "data": {
      "image/png": "[encoded data removed]",
      "text/plain": [
       "<Figure size 432x288 with 2 Axes>"
      ]
     },
     "metadata": {
      "needs_background": "light"
     },
     "output_type": "display_data"
    }
   ],
   "source": [
    "viewConfMatrixAndPerfMeasures(y_val,y_val_pred)"
   ]
  },
  {
   "cell_type": "markdown",
   "metadata": {},
   "source": [
    "### Classification: SVM"
   ]
  },
  {
   "cell_type": "code",
   "execution_count": 22,
   "metadata": {},
   "outputs": [],
   "source": [
    "# train with SVM\n",
    "svmClf = SVC(kernel = 'rbf', gamma = 'auto')  \n",
    "svmClf.fit(x_train_scaled,y_train)\n",
    "\n",
    "# estimate the skill of model with validation dataset\n",
    "y_val_pred = svmClf.predict(x_val_scaled)"
   ]
  },
  {
   "cell_type": "code",
   "execution_count": 23,
   "metadata": {},
   "outputs": [
    {
     "name": "stdout",
     "output_type": "stream",
     "text": [
      "Accuracy =  0.9397450753186558 \n",
      "Precision = [0.93566176 0.94670846] \n",
      "Recall =  [0.96768061 0.89614243] \n",
      "F1 Score =  [0.95140187 0.92073171]\n",
      "[[509  17]\n",
      " [ 35 302]]\n"
     ]
    },
    {
     "data": {
      "image/png": "[encoded data removed]",
      "text/plain": [
       "<Figure size 432x288 with 2 Axes>"
      ]
     },
     "metadata": {
      "needs_background": "light"
     },
     "output_type": "display_data"
    }
   ],
   "source": [
    "viewConfMatrixAndPerfMeasures(y_val,y_val_pred)"
   ]
  },
  {
   "cell_type": "markdown",
   "metadata": {},
   "source": [
    "## Performance Test\n",
    "### Use SVM for test dataset"
   ]
  },
  {
   "cell_type": "code",
   "execution_count": 24,
   "metadata": {},
   "outputs": [],
   "source": [
    "y_test_pred = svmClf.predict(x_test_scaled)"
   ]
  },
  {
   "cell_type": "code",
   "execution_count": 25,
   "metadata": {},
   "outputs": [
    {
     "name": "stdout",
     "output_type": "stream",
     "text": [
      "Accuracy =  0.9183318853171155 \n",
      "Precision = [0.91059147 0.93160377] \n",
      "Recall =  [0.95803184 0.85869565] \n",
      "F1 Score =  [0.93370945 0.89366516]\n",
      "[[662  29]\n",
      " [ 65 395]]\n"
     ]
    },
    {
     "data": {
      "image/png": "[encoded data removed]",
      "text/plain": [
       "<Figure size 432x288 with 2 Axes>"
      ]
     },
     "metadata": {
      "needs_background": "light"
     },
     "output_type": "display_data"
    }
   ],
   "source": [
    "viewConfMatrixAndPerfMeasures(y_test,y_test_pred)"
   ]
  },
  {
   "cell_type": "code",
   "execution_count": null,
   "metadata": {},
   "outputs": [],
   "source": []
  }
 ],
 "metadata": {
  "kernelspec": {
   "display_name": "Python 3",
   "language": "python",
   "name": "python3"
  },
  "language_info": {
   "codemirror_mode": {
    "name": "ipython",
    "version": 3
   },
   "file_extension": ".py",
   "mimetype": "text/x-python",
   "name": "python",
   "nbconvert_exporter": "python",
   "pygments_lexer": "ipython3",
   "version": "3.8.5"
  }
 },
 "nbformat": 4,
 "nbformat_minor": 4
}
